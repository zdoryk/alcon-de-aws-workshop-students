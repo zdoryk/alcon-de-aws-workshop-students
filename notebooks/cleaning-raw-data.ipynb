{
 "cells": [
  {
   "cell_type": "code",
   "execution_count": 6,
   "id": "initial_id",
   "metadata": {
    "collapsed": true,
    "ExecuteTime": {
     "end_time": "2023-11-28T23:28:33.582151975Z",
     "start_time": "2023-11-28T23:28:33.574950720Z"
    }
   },
   "outputs": [],
   "source": [
    "import awswrangler as wr\n",
    "import pandas as pd\n",
    "from os import getenv\n",
    "import boto3"
   ]
  },
  {
   "cell_type": "code",
   "execution_count": 4,
   "outputs": [
    {
     "data": {
      "text/plain": "True"
     },
     "execution_count": 4,
     "metadata": {},
     "output_type": "execute_result"
    }
   ],
   "source": [
    "from dotenv import load_dotenv\n",
    "\n",
    "load_dotenv()"
   ],
   "metadata": {
    "collapsed": false,
    "ExecuteTime": {
     "end_time": "2023-11-28T23:28:29.506278421Z",
     "start_time": "2023-11-28T23:28:29.487935193Z"
    }
   },
   "id": "cff0b7822a5238be"
  },
  {
   "cell_type": "code",
   "execution_count": 11,
   "outputs": [
    {
     "data": {
      "text/plain": "['s3://alcon-workshop-data-348390760357/28-11-2023_22.csv',\n 's3://alcon-workshop-data-348390760357/28-11-2023_23.csv']"
     },
     "execution_count": 11,
     "metadata": {},
     "output_type": "execute_result"
    }
   ],
   "source": [
    "bucket_path = f's3://{getenv(\"S3_BUCKET_NAME\")}'\n",
    "session = boto3.Session(aws_access_key_id=getenv(\"ACCESS_KEY_ID\"), aws_secret_access_key=getenv(\"SECRET_ACCESS_KEY\"))\n",
    "raw_data = wr.s3.list_objects(\n",
    "    bucket_path,\n",
    "    suffix='.csv',\n",
    "    boto3_session=session,\n",
    ")\n",
    "raw_data "
   ],
   "metadata": {
    "collapsed": false,
    "ExecuteTime": {
     "end_time": "2023-11-28T23:35:10.623632951Z",
     "start_time": "2023-11-28T23:35:09.312838351Z"
    }
   },
   "id": "59b1e072ef12fda0"
  },
  {
   "cell_type": "code",
   "execution_count": 13,
   "outputs": [
    {
     "data": {
      "text/plain": "     Unnamed: 0 FIRST_NAME   LAST_NAME     SEX   AGE   DATE_DIED  \\\n0             0     Karyme  Cartwright    Male  95.0  2023-10-28   \n1             1      Leota     Schmitt    Male  76.0  9999-99-99   \n2             2      Julio     Fritsch    Male  72.0  2023-10-28   \n3             3     Noemie  Swaniawski    Male  90.0  2023-10-28   \n4             4     Ofelia   Hettinger    Male  12.0  2023-10-28   \n..          ...        ...         ...     ...   ...         ...   \n195         195     Forest       Stamm    Male  45.0  2023-10-28   \n196         196     Dagmar    Prohaska  Female   2.0  2023-10-28   \n197         197      Arden      Hudson  Female   NaN  2023-10-28   \n198         198     Jemima       Swift  Female  60.0  2023-10-28   \n199         199   Reynolds      Walker    Male  12.0  2023-10-28   \n\n      INGESTION_DATETIME  \n0    2023-11-28 21:22:07  \n1    2023-11-28 21:22:07  \n2    2023-11-28 21:22:07  \n3    2023-11-28 21:22:07  \n4    2023-11-28 21:22:07  \n..                   ...  \n195  2023-11-28 22:52:06  \n196  2023-11-28 22:52:06  \n197  2023-11-28 22:52:06  \n198  2023-11-28 22:52:06  \n199  2023-11-28 22:52:06  \n\n[400 rows x 7 columns]",
      "text/html": "<div>\n<style scoped>\n    .dataframe tbody tr th:only-of-type {\n        vertical-align: middle;\n    }\n\n    .dataframe tbody tr th {\n        vertical-align: top;\n    }\n\n    .dataframe thead th {\n        text-align: right;\n    }\n</style>\n<table border=\"1\" class=\"dataframe\">\n  <thead>\n    <tr style=\"text-align: right;\">\n      <th></th>\n      <th>Unnamed: 0</th>\n      <th>FIRST_NAME</th>\n      <th>LAST_NAME</th>\n      <th>SEX</th>\n      <th>AGE</th>\n      <th>DATE_DIED</th>\n      <th>INGESTION_DATETIME</th>\n    </tr>\n  </thead>\n  <tbody>\n    <tr>\n      <th>0</th>\n      <td>0</td>\n      <td>Karyme</td>\n      <td>Cartwright</td>\n      <td>Male</td>\n      <td>95.0</td>\n      <td>2023-10-28</td>\n      <td>2023-11-28 21:22:07</td>\n    </tr>\n    <tr>\n      <th>1</th>\n      <td>1</td>\n      <td>Leota</td>\n      <td>Schmitt</td>\n      <td>Male</td>\n      <td>76.0</td>\n      <td>9999-99-99</td>\n      <td>2023-11-28 21:22:07</td>\n    </tr>\n    <tr>\n      <th>2</th>\n      <td>2</td>\n      <td>Julio</td>\n      <td>Fritsch</td>\n      <td>Male</td>\n      <td>72.0</td>\n      <td>2023-10-28</td>\n      <td>2023-11-28 21:22:07</td>\n    </tr>\n    <tr>\n      <th>3</th>\n      <td>3</td>\n      <td>Noemie</td>\n      <td>Swaniawski</td>\n      <td>Male</td>\n      <td>90.0</td>\n      <td>2023-10-28</td>\n      <td>2023-11-28 21:22:07</td>\n    </tr>\n    <tr>\n      <th>4</th>\n      <td>4</td>\n      <td>Ofelia</td>\n      <td>Hettinger</td>\n      <td>Male</td>\n      <td>12.0</td>\n      <td>2023-10-28</td>\n      <td>2023-11-28 21:22:07</td>\n    </tr>\n    <tr>\n      <th>...</th>\n      <td>...</td>\n      <td>...</td>\n      <td>...</td>\n      <td>...</td>\n      <td>...</td>\n      <td>...</td>\n      <td>...</td>\n    </tr>\n    <tr>\n      <th>195</th>\n      <td>195</td>\n      <td>Forest</td>\n      <td>Stamm</td>\n      <td>Male</td>\n      <td>45.0</td>\n      <td>2023-10-28</td>\n      <td>2023-11-28 22:52:06</td>\n    </tr>\n    <tr>\n      <th>196</th>\n      <td>196</td>\n      <td>Dagmar</td>\n      <td>Prohaska</td>\n      <td>Female</td>\n      <td>2.0</td>\n      <td>2023-10-28</td>\n      <td>2023-11-28 22:52:06</td>\n    </tr>\n    <tr>\n      <th>197</th>\n      <td>197</td>\n      <td>Arden</td>\n      <td>Hudson</td>\n      <td>Female</td>\n      <td>NaN</td>\n      <td>2023-10-28</td>\n      <td>2023-11-28 22:52:06</td>\n    </tr>\n    <tr>\n      <th>198</th>\n      <td>198</td>\n      <td>Jemima</td>\n      <td>Swift</td>\n      <td>Female</td>\n      <td>60.0</td>\n      <td>2023-10-28</td>\n      <td>2023-11-28 22:52:06</td>\n    </tr>\n    <tr>\n      <th>199</th>\n      <td>199</td>\n      <td>Reynolds</td>\n      <td>Walker</td>\n      <td>Male</td>\n      <td>12.0</td>\n      <td>2023-10-28</td>\n      <td>2023-11-28 22:52:06</td>\n    </tr>\n  </tbody>\n</table>\n<p>400 rows × 7 columns</p>\n</div>"
     },
     "execution_count": 13,
     "metadata": {},
     "output_type": "execute_result"
    }
   ],
   "source": [
    "df = wr.s3.read_csv(\n",
    "    raw_data,\n",
    "    sep=',',\n",
    "    index_col=False,\n",
    ")\n",
    "df"
   ],
   "metadata": {
    "collapsed": false,
    "ExecuteTime": {
     "end_time": "2023-11-28T23:36:15.247346755Z",
     "start_time": "2023-11-28T23:36:13.842635079Z"
    }
   },
   "id": "3b0423be9d3f107a"
  },
  {
   "cell_type": "code",
   "execution_count": 15,
   "outputs": [
    {
     "data": {
      "text/plain": "Index(['Unnamed: 0', 'FIRST_NAME', 'LAST_NAME', 'SEX', 'AGE', 'DATE_DIED',\n       'INGESTION_DATETIME'],\n      dtype='object')"
     },
     "execution_count": 15,
     "metadata": {},
     "output_type": "execute_result"
    }
   ],
   "source": [
    "df.columns"
   ],
   "metadata": {
    "collapsed": false,
    "ExecuteTime": {
     "end_time": "2023-11-28T23:37:00.984845292Z",
     "start_time": "2023-11-28T23:37:00.968939734Z"
    }
   },
   "id": "d8ff5e82784908bc"
  },
  {
   "cell_type": "code",
   "execution_count": 18,
   "outputs": [
    {
     "data": {
      "text/plain": "    FIRST_NAME   LAST_NAME     SEX   AGE   DATE_DIED   INGESTION_DATETIME\n0       Karyme  Cartwright    Male  95.0  2023-10-28  2023-11-28 21:22:07\n1        Leota     Schmitt    Male  76.0  9999-99-99  2023-11-28 21:22:07\n2        Julio     Fritsch    Male  72.0  2023-10-28  2023-11-28 21:22:07\n3       Noemie  Swaniawski    Male  90.0  2023-10-28  2023-11-28 21:22:07\n4       Ofelia   Hettinger    Male  12.0  2023-10-28  2023-11-28 21:22:07\n..         ...         ...     ...   ...         ...                  ...\n195     Forest       Stamm    Male  45.0  2023-10-28  2023-11-28 22:52:06\n196     Dagmar    Prohaska  Female   2.0  2023-10-28  2023-11-28 22:52:06\n197      Arden      Hudson  Female   NaN  2023-10-28  2023-11-28 22:52:06\n198     Jemima       Swift  Female  60.0  2023-10-28  2023-11-28 22:52:06\n199   Reynolds      Walker    Male  12.0  2023-10-28  2023-11-28 22:52:06\n\n[400 rows x 6 columns]",
      "text/html": "<div>\n<style scoped>\n    .dataframe tbody tr th:only-of-type {\n        vertical-align: middle;\n    }\n\n    .dataframe tbody tr th {\n        vertical-align: top;\n    }\n\n    .dataframe thead th {\n        text-align: right;\n    }\n</style>\n<table border=\"1\" class=\"dataframe\">\n  <thead>\n    <tr style=\"text-align: right;\">\n      <th></th>\n      <th>FIRST_NAME</th>\n      <th>LAST_NAME</th>\n      <th>SEX</th>\n      <th>AGE</th>\n      <th>DATE_DIED</th>\n      <th>INGESTION_DATETIME</th>\n    </tr>\n  </thead>\n  <tbody>\n    <tr>\n      <th>0</th>\n      <td>Karyme</td>\n      <td>Cartwright</td>\n      <td>Male</td>\n      <td>95.0</td>\n      <td>2023-10-28</td>\n      <td>2023-11-28 21:22:07</td>\n    </tr>\n    <tr>\n      <th>1</th>\n      <td>Leota</td>\n      <td>Schmitt</td>\n      <td>Male</td>\n      <td>76.0</td>\n      <td>9999-99-99</td>\n      <td>2023-11-28 21:22:07</td>\n    </tr>\n    <tr>\n      <th>2</th>\n      <td>Julio</td>\n      <td>Fritsch</td>\n      <td>Male</td>\n      <td>72.0</td>\n      <td>2023-10-28</td>\n      <td>2023-11-28 21:22:07</td>\n    </tr>\n    <tr>\n      <th>3</th>\n      <td>Noemie</td>\n      <td>Swaniawski</td>\n      <td>Male</td>\n      <td>90.0</td>\n      <td>2023-10-28</td>\n      <td>2023-11-28 21:22:07</td>\n    </tr>\n    <tr>\n      <th>4</th>\n      <td>Ofelia</td>\n      <td>Hettinger</td>\n      <td>Male</td>\n      <td>12.0</td>\n      <td>2023-10-28</td>\n      <td>2023-11-28 21:22:07</td>\n    </tr>\n    <tr>\n      <th>...</th>\n      <td>...</td>\n      <td>...</td>\n      <td>...</td>\n      <td>...</td>\n      <td>...</td>\n      <td>...</td>\n    </tr>\n    <tr>\n      <th>195</th>\n      <td>Forest</td>\n      <td>Stamm</td>\n      <td>Male</td>\n      <td>45.0</td>\n      <td>2023-10-28</td>\n      <td>2023-11-28 22:52:06</td>\n    </tr>\n    <tr>\n      <th>196</th>\n      <td>Dagmar</td>\n      <td>Prohaska</td>\n      <td>Female</td>\n      <td>2.0</td>\n      <td>2023-10-28</td>\n      <td>2023-11-28 22:52:06</td>\n    </tr>\n    <tr>\n      <th>197</th>\n      <td>Arden</td>\n      <td>Hudson</td>\n      <td>Female</td>\n      <td>NaN</td>\n      <td>2023-10-28</td>\n      <td>2023-11-28 22:52:06</td>\n    </tr>\n    <tr>\n      <th>198</th>\n      <td>Jemima</td>\n      <td>Swift</td>\n      <td>Female</td>\n      <td>60.0</td>\n      <td>2023-10-28</td>\n      <td>2023-11-28 22:52:06</td>\n    </tr>\n    <tr>\n      <th>199</th>\n      <td>Reynolds</td>\n      <td>Walker</td>\n      <td>Male</td>\n      <td>12.0</td>\n      <td>2023-10-28</td>\n      <td>2023-11-28 22:52:06</td>\n    </tr>\n  </tbody>\n</table>\n<p>400 rows × 6 columns</p>\n</div>"
     },
     "execution_count": 18,
     "metadata": {},
     "output_type": "execute_result"
    }
   ],
   "source": [
    "df = df.drop('Unnamed: 0', axis=1)\n",
    "df"
   ],
   "metadata": {
    "collapsed": false,
    "ExecuteTime": {
     "end_time": "2023-11-28T23:38:03.957828809Z",
     "start_time": "2023-11-28T23:38:03.912152336Z"
    }
   },
   "id": "f0c46ef813635126"
  },
  {
   "cell_type": "code",
   "execution_count": 29,
   "outputs": [
    {
     "data": {
      "text/plain": "    FIRST_NAME  LAST_NAME     SEX  AGE   DATE_DIED   INGESTION_DATETIME\n196     Dagmar   Prohaska  Female  2.0  2023-10-28  2023-11-28 21:52:06\n196     Dagmar   Prohaska  Female  2.0  2023-10-28  2023-11-28 22:52:06\n96      Dagmar   Prohaska  Female  2.0  2023-10-28  2023-11-28 21:22:07\n96      Dagmar   Prohaska  Female  2.0  2023-10-28  2023-11-28 22:22:06\n189     Author    Gleason    Male  3.0  2023-10-28  2023-11-28 22:52:06\n..         ...        ...     ...  ...         ...                  ...\n97       Arden     Hudson  Female  NaN  2023-10-28  2023-11-28 22:22:06\n116      Clara      Boyle    Male  NaN  2023-10-28  2023-11-28 22:52:06\n128     Charls    Wuckert    Male  NaN  2023-10-28  2023-11-28 22:52:06\n137     Amirah  Romaguera  Female  NaN  9999-99-99  2023-11-28 22:52:06\n197      Arden     Hudson  Female  NaN  2023-10-28  2023-11-28 22:52:06\n\n[400 rows x 6 columns]",
      "text/html": "<div>\n<style scoped>\n    .dataframe tbody tr th:only-of-type {\n        vertical-align: middle;\n    }\n\n    .dataframe tbody tr th {\n        vertical-align: top;\n    }\n\n    .dataframe thead th {\n        text-align: right;\n    }\n</style>\n<table border=\"1\" class=\"dataframe\">\n  <thead>\n    <tr style=\"text-align: right;\">\n      <th></th>\n      <th>FIRST_NAME</th>\n      <th>LAST_NAME</th>\n      <th>SEX</th>\n      <th>AGE</th>\n      <th>DATE_DIED</th>\n      <th>INGESTION_DATETIME</th>\n    </tr>\n  </thead>\n  <tbody>\n    <tr>\n      <th>196</th>\n      <td>Dagmar</td>\n      <td>Prohaska</td>\n      <td>Female</td>\n      <td>2.0</td>\n      <td>2023-10-28</td>\n      <td>2023-11-28 21:52:06</td>\n    </tr>\n    <tr>\n      <th>196</th>\n      <td>Dagmar</td>\n      <td>Prohaska</td>\n      <td>Female</td>\n      <td>2.0</td>\n      <td>2023-10-28</td>\n      <td>2023-11-28 22:52:06</td>\n    </tr>\n    <tr>\n      <th>96</th>\n      <td>Dagmar</td>\n      <td>Prohaska</td>\n      <td>Female</td>\n      <td>2.0</td>\n      <td>2023-10-28</td>\n      <td>2023-11-28 21:22:07</td>\n    </tr>\n    <tr>\n      <th>96</th>\n      <td>Dagmar</td>\n      <td>Prohaska</td>\n      <td>Female</td>\n      <td>2.0</td>\n      <td>2023-10-28</td>\n      <td>2023-11-28 22:22:06</td>\n    </tr>\n    <tr>\n      <th>189</th>\n      <td>Author</td>\n      <td>Gleason</td>\n      <td>Male</td>\n      <td>3.0</td>\n      <td>2023-10-28</td>\n      <td>2023-11-28 22:52:06</td>\n    </tr>\n    <tr>\n      <th>...</th>\n      <td>...</td>\n      <td>...</td>\n      <td>...</td>\n      <td>...</td>\n      <td>...</td>\n      <td>...</td>\n    </tr>\n    <tr>\n      <th>97</th>\n      <td>Arden</td>\n      <td>Hudson</td>\n      <td>Female</td>\n      <td>NaN</td>\n      <td>2023-10-28</td>\n      <td>2023-11-28 22:22:06</td>\n    </tr>\n    <tr>\n      <th>116</th>\n      <td>Clara</td>\n      <td>Boyle</td>\n      <td>Male</td>\n      <td>NaN</td>\n      <td>2023-10-28</td>\n      <td>2023-11-28 22:52:06</td>\n    </tr>\n    <tr>\n      <th>128</th>\n      <td>Charls</td>\n      <td>Wuckert</td>\n      <td>Male</td>\n      <td>NaN</td>\n      <td>2023-10-28</td>\n      <td>2023-11-28 22:52:06</td>\n    </tr>\n    <tr>\n      <th>137</th>\n      <td>Amirah</td>\n      <td>Romaguera</td>\n      <td>Female</td>\n      <td>NaN</td>\n      <td>9999-99-99</td>\n      <td>2023-11-28 22:52:06</td>\n    </tr>\n    <tr>\n      <th>197</th>\n      <td>Arden</td>\n      <td>Hudson</td>\n      <td>Female</td>\n      <td>NaN</td>\n      <td>2023-10-28</td>\n      <td>2023-11-28 22:52:06</td>\n    </tr>\n  </tbody>\n</table>\n<p>400 rows × 6 columns</p>\n</div>"
     },
     "execution_count": 29,
     "metadata": {},
     "output_type": "execute_result"
    }
   ],
   "source": [
    "df.sort_values(by='AGE')"
   ],
   "metadata": {
    "collapsed": false,
    "ExecuteTime": {
     "end_time": "2023-11-28T23:44:52.504362296Z",
     "start_time": "2023-11-28T23:44:52.490362146Z"
    }
   },
   "id": "d0444a8b40940337"
  },
  {
   "cell_type": "code",
   "execution_count": 25,
   "outputs": [
    {
     "data": {
      "text/plain": "    FIRST_NAME  LAST_NAME     SEX    AGE   DATE_DIED   INGESTION_DATETIME\n123   Thorwald    Wiegand  Female  165.0  2023-10-28  2023-11-28 21:52:06\n23    Thorwald    Wiegand  Female  165.0  2023-10-28  2023-11-28 21:22:07\n23    Thorwald    Wiegand  Female  165.0  2023-10-28  2023-11-28 22:22:06\n123   Thorwald    Wiegand  Female  165.0  2023-10-28  2023-11-28 22:52:06\n148      Cyndi     Legros  Female  154.0  2023-10-28  2023-11-28 22:52:06\n..         ...        ...     ...    ...         ...                  ...\n97       Arden     Hudson  Female    NaN  2023-10-28  2023-11-28 22:22:06\n116      Clara      Boyle    Male    NaN  2023-10-28  2023-11-28 22:52:06\n128     Charls    Wuckert    Male    NaN  2023-10-28  2023-11-28 22:52:06\n137     Amirah  Romaguera  Female    NaN  9999-99-99  2023-11-28 22:52:06\n197      Arden     Hudson  Female    NaN  2023-10-28  2023-11-28 22:52:06\n\n[400 rows x 6 columns]",
      "text/html": "<div>\n<style scoped>\n    .dataframe tbody tr th:only-of-type {\n        vertical-align: middle;\n    }\n\n    .dataframe tbody tr th {\n        vertical-align: top;\n    }\n\n    .dataframe thead th {\n        text-align: right;\n    }\n</style>\n<table border=\"1\" class=\"dataframe\">\n  <thead>\n    <tr style=\"text-align: right;\">\n      <th></th>\n      <th>FIRST_NAME</th>\n      <th>LAST_NAME</th>\n      <th>SEX</th>\n      <th>AGE</th>\n      <th>DATE_DIED</th>\n      <th>INGESTION_DATETIME</th>\n    </tr>\n  </thead>\n  <tbody>\n    <tr>\n      <th>123</th>\n      <td>Thorwald</td>\n      <td>Wiegand</td>\n      <td>Female</td>\n      <td>165.0</td>\n      <td>2023-10-28</td>\n      <td>2023-11-28 21:52:06</td>\n    </tr>\n    <tr>\n      <th>23</th>\n      <td>Thorwald</td>\n      <td>Wiegand</td>\n      <td>Female</td>\n      <td>165.0</td>\n      <td>2023-10-28</td>\n      <td>2023-11-28 21:22:07</td>\n    </tr>\n    <tr>\n      <th>23</th>\n      <td>Thorwald</td>\n      <td>Wiegand</td>\n      <td>Female</td>\n      <td>165.0</td>\n      <td>2023-10-28</td>\n      <td>2023-11-28 22:22:06</td>\n    </tr>\n    <tr>\n      <th>123</th>\n      <td>Thorwald</td>\n      <td>Wiegand</td>\n      <td>Female</td>\n      <td>165.0</td>\n      <td>2023-10-28</td>\n      <td>2023-11-28 22:52:06</td>\n    </tr>\n    <tr>\n      <th>148</th>\n      <td>Cyndi</td>\n      <td>Legros</td>\n      <td>Female</td>\n      <td>154.0</td>\n      <td>2023-10-28</td>\n      <td>2023-11-28 22:52:06</td>\n    </tr>\n    <tr>\n      <th>...</th>\n      <td>...</td>\n      <td>...</td>\n      <td>...</td>\n      <td>...</td>\n      <td>...</td>\n      <td>...</td>\n    </tr>\n    <tr>\n      <th>97</th>\n      <td>Arden</td>\n      <td>Hudson</td>\n      <td>Female</td>\n      <td>NaN</td>\n      <td>2023-10-28</td>\n      <td>2023-11-28 22:22:06</td>\n    </tr>\n    <tr>\n      <th>116</th>\n      <td>Clara</td>\n      <td>Boyle</td>\n      <td>Male</td>\n      <td>NaN</td>\n      <td>2023-10-28</td>\n      <td>2023-11-28 22:52:06</td>\n    </tr>\n    <tr>\n      <th>128</th>\n      <td>Charls</td>\n      <td>Wuckert</td>\n      <td>Male</td>\n      <td>NaN</td>\n      <td>2023-10-28</td>\n      <td>2023-11-28 22:52:06</td>\n    </tr>\n    <tr>\n      <th>137</th>\n      <td>Amirah</td>\n      <td>Romaguera</td>\n      <td>Female</td>\n      <td>NaN</td>\n      <td>9999-99-99</td>\n      <td>2023-11-28 22:52:06</td>\n    </tr>\n    <tr>\n      <th>197</th>\n      <td>Arden</td>\n      <td>Hudson</td>\n      <td>Female</td>\n      <td>NaN</td>\n      <td>2023-10-28</td>\n      <td>2023-11-28 22:52:06</td>\n    </tr>\n  </tbody>\n</table>\n<p>400 rows × 6 columns</p>\n</div>"
     },
     "execution_count": 25,
     "metadata": {},
     "output_type": "execute_result"
    }
   ],
   "source": [
    "df.sort_values(by='AGE', ascending=False)"
   ],
   "metadata": {
    "collapsed": false,
    "ExecuteTime": {
     "end_time": "2023-11-28T23:40:08.700462720Z",
     "start_time": "2023-11-28T23:40:08.673940467Z"
    }
   },
   "id": "521e4db0a01fba95"
  },
  {
   "cell_type": "code",
   "execution_count": 28,
   "outputs": [
    {
     "data": {
      "text/plain": "    FIRST_NAME LAST_NAME     SEX    AGE   DATE_DIED   INGESTION_DATETIME\n123   Thorwald   Wiegand  Female  165.0  2023-10-28  2023-11-28 21:52:06\n148      Cyndi    Legros  Female  154.0  2023-10-28  2023-11-28 22:52:06\n191     Jalynn     O'Kon    Male  100.0  2023-10-28  2023-11-28 21:52:06\n180     Sylvia     Kling  Female   99.0  2023-10-28  2023-11-28 22:52:06\n171   Franklin   Quitzon    Male   97.0  2023-10-28  2023-11-28 22:52:06\n..         ...       ...     ...    ...         ...                  ...\n131    Leilani   Quigley    Male    8.0  2023-10-28  2023-11-28 21:52:06\n72     Julious     Dicki  Female    7.0  2023-10-28  2023-11-28 21:22:07\n187     Tameka  Bogisich  Female    3.0  9999-99-99  2023-11-28 22:52:06\n96      Dagmar  Prohaska  Female    2.0  2023-10-28  2023-11-28 21:22:07\n16       Clara     Boyle    Male    NaN  2023-10-28  2023-11-28 21:22:07\n\n[64 rows x 6 columns]",
      "text/html": "<div>\n<style scoped>\n    .dataframe tbody tr th:only-of-type {\n        vertical-align: middle;\n    }\n\n    .dataframe tbody tr th {\n        vertical-align: top;\n    }\n\n    .dataframe thead th {\n        text-align: right;\n    }\n</style>\n<table border=\"1\" class=\"dataframe\">\n  <thead>\n    <tr style=\"text-align: right;\">\n      <th></th>\n      <th>FIRST_NAME</th>\n      <th>LAST_NAME</th>\n      <th>SEX</th>\n      <th>AGE</th>\n      <th>DATE_DIED</th>\n      <th>INGESTION_DATETIME</th>\n    </tr>\n  </thead>\n  <tbody>\n    <tr>\n      <th>123</th>\n      <td>Thorwald</td>\n      <td>Wiegand</td>\n      <td>Female</td>\n      <td>165.0</td>\n      <td>2023-10-28</td>\n      <td>2023-11-28 21:52:06</td>\n    </tr>\n    <tr>\n      <th>148</th>\n      <td>Cyndi</td>\n      <td>Legros</td>\n      <td>Female</td>\n      <td>154.0</td>\n      <td>2023-10-28</td>\n      <td>2023-11-28 22:52:06</td>\n    </tr>\n    <tr>\n      <th>191</th>\n      <td>Jalynn</td>\n      <td>O'Kon</td>\n      <td>Male</td>\n      <td>100.0</td>\n      <td>2023-10-28</td>\n      <td>2023-11-28 21:52:06</td>\n    </tr>\n    <tr>\n      <th>180</th>\n      <td>Sylvia</td>\n      <td>Kling</td>\n      <td>Female</td>\n      <td>99.0</td>\n      <td>2023-10-28</td>\n      <td>2023-11-28 22:52:06</td>\n    </tr>\n    <tr>\n      <th>171</th>\n      <td>Franklin</td>\n      <td>Quitzon</td>\n      <td>Male</td>\n      <td>97.0</td>\n      <td>2023-10-28</td>\n      <td>2023-11-28 22:52:06</td>\n    </tr>\n    <tr>\n      <th>...</th>\n      <td>...</td>\n      <td>...</td>\n      <td>...</td>\n      <td>...</td>\n      <td>...</td>\n      <td>...</td>\n    </tr>\n    <tr>\n      <th>131</th>\n      <td>Leilani</td>\n      <td>Quigley</td>\n      <td>Male</td>\n      <td>8.0</td>\n      <td>2023-10-28</td>\n      <td>2023-11-28 21:52:06</td>\n    </tr>\n    <tr>\n      <th>72</th>\n      <td>Julious</td>\n      <td>Dicki</td>\n      <td>Female</td>\n      <td>7.0</td>\n      <td>2023-10-28</td>\n      <td>2023-11-28 21:22:07</td>\n    </tr>\n    <tr>\n      <th>187</th>\n      <td>Tameka</td>\n      <td>Bogisich</td>\n      <td>Female</td>\n      <td>3.0</td>\n      <td>9999-99-99</td>\n      <td>2023-11-28 22:52:06</td>\n    </tr>\n    <tr>\n      <th>96</th>\n      <td>Dagmar</td>\n      <td>Prohaska</td>\n      <td>Female</td>\n      <td>2.0</td>\n      <td>2023-10-28</td>\n      <td>2023-11-28 21:22:07</td>\n    </tr>\n    <tr>\n      <th>16</th>\n      <td>Clara</td>\n      <td>Boyle</td>\n      <td>Male</td>\n      <td>NaN</td>\n      <td>2023-10-28</td>\n      <td>2023-11-28 21:22:07</td>\n    </tr>\n  </tbody>\n</table>\n<p>64 rows × 6 columns</p>\n</div>"
     },
     "execution_count": 28,
     "metadata": {},
     "output_type": "execute_result"
    }
   ],
   "source": [
    "df.sort_values(by='AGE', ascending=False).drop_duplicates('AGE')"
   ],
   "metadata": {
    "collapsed": false,
    "ExecuteTime": {
     "end_time": "2023-11-28T23:42:53.132526007Z",
     "start_time": "2023-11-28T23:42:53.043038243Z"
    }
   },
   "id": "63946704f381ca1"
  },
  {
   "cell_type": "code",
   "execution_count": 30,
   "outputs": [
    {
     "data": {
      "text/plain": "    FIRST_NAME   LAST_NAME     SEX   AGE   DATE_DIED   INGESTION_DATETIME\n0       Karyme  Cartwright    Male  95.0  2023-10-28  2023-11-28 21:22:07\n1        Leota     Schmitt    Male  76.0  9999-99-99  2023-11-28 21:22:07\n2        Julio     Fritsch    Male  72.0  2023-10-28  2023-11-28 21:22:07\n3       Noemie  Swaniawski    Male  90.0  2023-10-28  2023-11-28 21:22:07\n4       Ofelia   Hettinger    Male  12.0  2023-10-28  2023-11-28 21:22:07\n..         ...         ...     ...   ...         ...                  ...\n194      Ludie       Smith  Female  88.0  9999-99-99  2023-11-28 22:52:06\n195     Forest       Stamm    Male  45.0  2023-10-28  2023-11-28 22:52:06\n196     Dagmar    Prohaska  Female   2.0  2023-10-28  2023-11-28 22:52:06\n198     Jemima       Swift  Female  60.0  2023-10-28  2023-11-28 22:52:06\n199   Reynolds      Walker    Male  12.0  2023-10-28  2023-11-28 22:52:06\n\n[376 rows x 6 columns]",
      "text/html": "<div>\n<style scoped>\n    .dataframe tbody tr th:only-of-type {\n        vertical-align: middle;\n    }\n\n    .dataframe tbody tr th {\n        vertical-align: top;\n    }\n\n    .dataframe thead th {\n        text-align: right;\n    }\n</style>\n<table border=\"1\" class=\"dataframe\">\n  <thead>\n    <tr style=\"text-align: right;\">\n      <th></th>\n      <th>FIRST_NAME</th>\n      <th>LAST_NAME</th>\n      <th>SEX</th>\n      <th>AGE</th>\n      <th>DATE_DIED</th>\n      <th>INGESTION_DATETIME</th>\n    </tr>\n  </thead>\n  <tbody>\n    <tr>\n      <th>0</th>\n      <td>Karyme</td>\n      <td>Cartwright</td>\n      <td>Male</td>\n      <td>95.0</td>\n      <td>2023-10-28</td>\n      <td>2023-11-28 21:22:07</td>\n    </tr>\n    <tr>\n      <th>1</th>\n      <td>Leota</td>\n      <td>Schmitt</td>\n      <td>Male</td>\n      <td>76.0</td>\n      <td>9999-99-99</td>\n      <td>2023-11-28 21:22:07</td>\n    </tr>\n    <tr>\n      <th>2</th>\n      <td>Julio</td>\n      <td>Fritsch</td>\n      <td>Male</td>\n      <td>72.0</td>\n      <td>2023-10-28</td>\n      <td>2023-11-28 21:22:07</td>\n    </tr>\n    <tr>\n      <th>3</th>\n      <td>Noemie</td>\n      <td>Swaniawski</td>\n      <td>Male</td>\n      <td>90.0</td>\n      <td>2023-10-28</td>\n      <td>2023-11-28 21:22:07</td>\n    </tr>\n    <tr>\n      <th>4</th>\n      <td>Ofelia</td>\n      <td>Hettinger</td>\n      <td>Male</td>\n      <td>12.0</td>\n      <td>2023-10-28</td>\n      <td>2023-11-28 21:22:07</td>\n    </tr>\n    <tr>\n      <th>...</th>\n      <td>...</td>\n      <td>...</td>\n      <td>...</td>\n      <td>...</td>\n      <td>...</td>\n      <td>...</td>\n    </tr>\n    <tr>\n      <th>194</th>\n      <td>Ludie</td>\n      <td>Smith</td>\n      <td>Female</td>\n      <td>88.0</td>\n      <td>9999-99-99</td>\n      <td>2023-11-28 22:52:06</td>\n    </tr>\n    <tr>\n      <th>195</th>\n      <td>Forest</td>\n      <td>Stamm</td>\n      <td>Male</td>\n      <td>45.0</td>\n      <td>2023-10-28</td>\n      <td>2023-11-28 22:52:06</td>\n    </tr>\n    <tr>\n      <th>196</th>\n      <td>Dagmar</td>\n      <td>Prohaska</td>\n      <td>Female</td>\n      <td>2.0</td>\n      <td>2023-10-28</td>\n      <td>2023-11-28 22:52:06</td>\n    </tr>\n    <tr>\n      <th>198</th>\n      <td>Jemima</td>\n      <td>Swift</td>\n      <td>Female</td>\n      <td>60.0</td>\n      <td>2023-10-28</td>\n      <td>2023-11-28 22:52:06</td>\n    </tr>\n    <tr>\n      <th>199</th>\n      <td>Reynolds</td>\n      <td>Walker</td>\n      <td>Male</td>\n      <td>12.0</td>\n      <td>2023-10-28</td>\n      <td>2023-11-28 22:52:06</td>\n    </tr>\n  </tbody>\n</table>\n<p>376 rows × 6 columns</p>\n</div>"
     },
     "execution_count": 30,
     "metadata": {},
     "output_type": "execute_result"
    }
   ],
   "source": [
    "cleaned = df[df['AGE'] <= 100]\n",
    "cleaned"
   ],
   "metadata": {
    "collapsed": false,
    "ExecuteTime": {
     "end_time": "2023-11-28T23:45:33.167704734Z",
     "start_time": "2023-11-28T23:45:33.127927467Z"
    }
   },
   "id": "19170e23b5affdd1"
  },
  {
   "cell_type": "code",
   "execution_count": 31,
   "outputs": [
    {
     "data": {
      "text/plain": "    FIRST_NAME   LAST_NAME     SEX    AGE   DATE_DIED   INGESTION_DATETIME\n91      Jalynn       O'Kon    Male  100.0  2023-10-28  2023-11-28 22:22:06\n76     Natalya     Gleason  Female   99.0  2023-10-28  2023-11-28 22:22:06\n171   Franklin     Quitzon    Male   97.0  2023-10-28  2023-11-28 21:52:06\n38       Merry     McGlynn    Male   96.0  9999-99-99  2023-11-28 22:22:06\n100     Karyme  Cartwright    Male   95.0  2023-10-28  2023-11-28 21:52:06\n..         ...         ...     ...    ...         ...                  ...\n126    Edgardo     Gleason    Male    9.0  2023-10-28  2023-11-28 21:52:06\n139     Cassie      Littel    Male    8.0  9999-99-99  2023-11-28 21:52:06\n72     Julious       Dicki  Female    7.0  2023-10-28  2023-11-28 21:22:07\n187     Tameka    Bogisich  Female    3.0  9999-99-99  2023-11-28 22:52:06\n96      Dagmar    Prohaska  Female    2.0  2023-10-28  2023-11-28 21:22:07\n\n[61 rows x 6 columns]",
      "text/html": "<div>\n<style scoped>\n    .dataframe tbody tr th:only-of-type {\n        vertical-align: middle;\n    }\n\n    .dataframe tbody tr th {\n        vertical-align: top;\n    }\n\n    .dataframe thead th {\n        text-align: right;\n    }\n</style>\n<table border=\"1\" class=\"dataframe\">\n  <thead>\n    <tr style=\"text-align: right;\">\n      <th></th>\n      <th>FIRST_NAME</th>\n      <th>LAST_NAME</th>\n      <th>SEX</th>\n      <th>AGE</th>\n      <th>DATE_DIED</th>\n      <th>INGESTION_DATETIME</th>\n    </tr>\n  </thead>\n  <tbody>\n    <tr>\n      <th>91</th>\n      <td>Jalynn</td>\n      <td>O'Kon</td>\n      <td>Male</td>\n      <td>100.0</td>\n      <td>2023-10-28</td>\n      <td>2023-11-28 22:22:06</td>\n    </tr>\n    <tr>\n      <th>76</th>\n      <td>Natalya</td>\n      <td>Gleason</td>\n      <td>Female</td>\n      <td>99.0</td>\n      <td>2023-10-28</td>\n      <td>2023-11-28 22:22:06</td>\n    </tr>\n    <tr>\n      <th>171</th>\n      <td>Franklin</td>\n      <td>Quitzon</td>\n      <td>Male</td>\n      <td>97.0</td>\n      <td>2023-10-28</td>\n      <td>2023-11-28 21:52:06</td>\n    </tr>\n    <tr>\n      <th>38</th>\n      <td>Merry</td>\n      <td>McGlynn</td>\n      <td>Male</td>\n      <td>96.0</td>\n      <td>9999-99-99</td>\n      <td>2023-11-28 22:22:06</td>\n    </tr>\n    <tr>\n      <th>100</th>\n      <td>Karyme</td>\n      <td>Cartwright</td>\n      <td>Male</td>\n      <td>95.0</td>\n      <td>2023-10-28</td>\n      <td>2023-11-28 21:52:06</td>\n    </tr>\n    <tr>\n      <th>...</th>\n      <td>...</td>\n      <td>...</td>\n      <td>...</td>\n      <td>...</td>\n      <td>...</td>\n      <td>...</td>\n    </tr>\n    <tr>\n      <th>126</th>\n      <td>Edgardo</td>\n      <td>Gleason</td>\n      <td>Male</td>\n      <td>9.0</td>\n      <td>2023-10-28</td>\n      <td>2023-11-28 21:52:06</td>\n    </tr>\n    <tr>\n      <th>139</th>\n      <td>Cassie</td>\n      <td>Littel</td>\n      <td>Male</td>\n      <td>8.0</td>\n      <td>9999-99-99</td>\n      <td>2023-11-28 21:52:06</td>\n    </tr>\n    <tr>\n      <th>72</th>\n      <td>Julious</td>\n      <td>Dicki</td>\n      <td>Female</td>\n      <td>7.0</td>\n      <td>2023-10-28</td>\n      <td>2023-11-28 21:22:07</td>\n    </tr>\n    <tr>\n      <th>187</th>\n      <td>Tameka</td>\n      <td>Bogisich</td>\n      <td>Female</td>\n      <td>3.0</td>\n      <td>9999-99-99</td>\n      <td>2023-11-28 22:52:06</td>\n    </tr>\n    <tr>\n      <th>96</th>\n      <td>Dagmar</td>\n      <td>Prohaska</td>\n      <td>Female</td>\n      <td>2.0</td>\n      <td>2023-10-28</td>\n      <td>2023-11-28 21:22:07</td>\n    </tr>\n  </tbody>\n</table>\n<p>61 rows × 6 columns</p>\n</div>"
     },
     "execution_count": 31,
     "metadata": {},
     "output_type": "execute_result"
    }
   ],
   "source": [
    "cleaned.sort_values(by='AGE', ascending=False).drop_duplicates('AGE')"
   ],
   "metadata": {
    "collapsed": false,
    "ExecuteTime": {
     "end_time": "2023-11-28T23:45:57.981804304Z",
     "start_time": "2023-11-28T23:45:57.910199162Z"
    }
   },
   "id": "a30dfd7136e98a2b"
  },
  {
   "cell_type": "code",
   "execution_count": null,
   "outputs": [],
   "source": [],
   "metadata": {
    "collapsed": false
   },
   "id": "8ad3a432bfab5a25"
  }
 ],
 "metadata": {
  "kernelspec": {
   "display_name": "Python 3",
   "language": "python",
   "name": "python3"
  },
  "language_info": {
   "codemirror_mode": {
    "name": "ipython",
    "version": 2
   },
   "file_extension": ".py",
   "mimetype": "text/x-python",
   "name": "python",
   "nbconvert_exporter": "python",
   "pygments_lexer": "ipython2",
   "version": "2.7.6"
  }
 },
 "nbformat": 4,
 "nbformat_minor": 5
}
